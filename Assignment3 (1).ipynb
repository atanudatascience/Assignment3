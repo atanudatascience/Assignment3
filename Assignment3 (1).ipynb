{
 "cells": [
  {
   "cell_type": "code",
   "execution_count": 1,
   "id": "688f2809",
   "metadata": {},
   "outputs": [
    {
     "name": "stdout",
     "output_type": "stream",
     "text": [
      " \n",
      "ineuron   \n",
      "ineuron  ineuron   \n",
      "ineuron  ineuron  ineuron   \n",
      "ineuron  ineuron  ineuron  ineuron   \n"
     ]
    }
   ],
   "source": [
    "rows=4\n",
    "for i in range(rows+1):\n",
    "    for j in range(i):\n",
    "        print(\"ineuron\",end=\"  \")\n",
    "        \n",
    "    print(\" \")\n",
    "        "
   ]
  },
  {
   "cell_type": "code",
   "execution_count": 2,
   "id": "86d00b83",
   "metadata": {},
   "outputs": [
    {
     "name": "stdout",
     "output_type": "stream",
     "text": [
      "        ineuron \n",
      "    ineuron ineuron \n",
      "ineuron ineuron ineuron \n",
      "    ineuron ineuron \n",
      "        ineuron \n"
     ]
    }
   ],
   "source": [
    "rows = 2\n",
    "k = 2 * rows - 2\n",
    "for i in range(0, rows):\n",
    "    for j in range(0, k):\n",
    "        print(end=\"    \")\n",
    "    k = k - 1\n",
    "    for j in range(0, i + 1):\n",
    "        print(\"ineuron\", end=\" \")\n",
    "    print(\"\")\n",
    "    \n",
    "k = rows - 2\n",
    "\n",
    "for i in range(rows, -1, -1):\n",
    "    for j in range(k, 0, -1):\n",
    "        print(end=\"    \")\n",
    "    k = k + 1\n",
    "    for j in range(0, i + 1):\n",
    "        print(\"ineuron\", end=\" \")\n",
    "    print(\"\")"
   ]
  },
  {
   "cell_type": "code",
   "execution_count": 3,
   "id": "6a48a9e8",
   "metadata": {},
   "outputs": [
    {
     "name": "stdout",
     "output_type": "stream",
     "text": [
      "[1, 2, 3, 4]\n",
      "['ineuron', 'data science']\n"
     ]
    }
   ],
   "source": [
    "l=[[1,2,3,4],(2,3,4,5,6),(3,4,5,6,7),set([23,4,5,45,4,4,5,45,45,4,5]),{'k1':\"sudh\",\"k2\":\"ineuron\",\"k3\":\"kumar\",3:6,7:8},\n",
    "   [\"ineuron\",\"data science\"]]\n",
    "for i in l:\n",
    "    if type(i)==list:\n",
    "        print(i)"
   ]
  },
  {
   "cell_type": "code",
   "execution_count": 4,
   "id": "4f346a7f",
   "metadata": {},
   "outputs": [
    {
     "name": "stdout",
     "output_type": "stream",
     "text": [
      "{'k1': 'sudh', 'k2': 'ineuron', 'k3': 'kumar', 3: 6, 7: 8}\n"
     ]
    }
   ],
   "source": [
    "for i in l:\n",
    "    if type(i)==dict:\n",
    "        print(i)"
   ]
  },
  {
   "cell_type": "code",
   "execution_count": 5,
   "id": "ac343e26",
   "metadata": {},
   "outputs": [
    {
     "name": "stdout",
     "output_type": "stream",
     "text": [
      "(2, 3, 4, 5, 6)\n",
      "(3, 4, 5, 6, 7)\n"
     ]
    }
   ],
   "source": [
    "for i in l:\n",
    "    if type(i)==tuple:\n",
    "        print(i)"
   ]
  },
  {
   "cell_type": "code",
   "execution_count": 143,
   "id": "24526ab2",
   "metadata": {},
   "outputs": [
    {
     "name": "stdout",
     "output_type": "stream",
     "text": [
      "1\n",
      "2\n",
      "3\n",
      "4\n",
      "2\n",
      "3\n",
      "4\n",
      "5\n",
      "6\n",
      "3\n",
      "4\n",
      "5\n",
      "6\n",
      "7\n",
      "45\n",
      "4\n",
      "5\n",
      "23\n",
      "3\n",
      "6\n",
      "7\n",
      "8\n"
     ]
    }
   ],
   "source": [
    "list1=[]\n",
    "for i in l:\n",
    "    if type(i)==list or type(i)==tuple :\n",
    "        for j in i:\n",
    "            if (type(j)==int):\n",
    "                print(j)\n",
    "                list1.append(j)\n",
    "    if type(i)==set :\n",
    "        l2=list(i)\n",
    "        for j in l2:\n",
    "            if (type(j)==int):\n",
    "                print(j)\n",
    "                list1.append(j)\n",
    "    \n",
    "    if type(i)==dict:\n",
    "        for j in i:\n",
    "            if (type(j)==int):\n",
    "                print(j)\n",
    "                list1.append(j)\n",
    "                print(i[j])\n",
    "                list1.append(i[j])\n",
    "                   \n",
    "                \n",
    "    \n",
    "        "
   ]
  },
  {
   "cell_type": "code",
   "execution_count": 7,
   "id": "5b6683d8",
   "metadata": {},
   "outputs": [
    {
     "data": {
      "text/plain": [
       "[1, 2, 3, 4, 2, 3, 4, 5, 6, 3, 4, 5, 6, 7, 45, 4, 5, 23, 3, 6, 7, 8]"
      ]
     },
     "execution_count": 7,
     "metadata": {},
     "output_type": "execute_result"
    }
   ],
   "source": [
    "list1"
   ]
  },
  {
   "cell_type": "code",
   "execution_count": 9,
   "id": "88ad8347",
   "metadata": {},
   "outputs": [
    {
     "name": "stdout",
     "output_type": "stream",
     "text": [
      "156\n"
     ]
    }
   ],
   "source": [
    "Sum=sum(list1)\n",
    "print(Sum)"
   ]
  },
  {
   "cell_type": "code",
   "execution_count": 31,
   "id": "73a88f07",
   "metadata": {},
   "outputs": [
    {
     "name": "stdout",
     "output_type": "stream",
     "text": [
      "[1, 3, 3, 5, 3, 5, 7, 45, 5, 23, 3, 7]\n"
     ]
    }
   ],
   "source": [
    "oddvalueList=[]\n",
    "for i in list1:\n",
    "    if(i%2==1):\n",
    "        oddvalueList.append(i)\n",
    "print(oddvalueList)"
   ]
  },
  {
   "cell_type": "code",
   "execution_count": null,
   "id": "4916111d",
   "metadata": {},
   "outputs": [],
   "source": [
    "l"
   ]
  },
  {
   "cell_type": "code",
   "execution_count": 54,
   "id": "2256c942",
   "metadata": {},
   "outputs": [
    {
     "name": "stdout",
     "output_type": "stream",
     "text": [
      "ineuron <class 'dict'>\n",
      "ineuron <class 'list'>\n"
     ]
    }
   ],
   "source": [
    "\n",
    "\n",
    "for i in l:\n",
    "    if type(i)==list or type(i)==set or type(i)==tuple :\n",
    "        for k in i:\n",
    "            if(k==\"ineuron\"):\n",
    "                print(k,type(i))\n",
    "                \n",
    "    if type(i)==dict:\n",
    "        for k in i.keys():\n",
    "            if(k==\"ineuron\"):\n",
    "                print(k,type(i))\n",
    "        for v in i.values():\n",
    "            if(v==\"ineuron\"):\n",
    "                print(v,type(i))\n",
    "    \n",
    "       "
   ]
  },
  {
   "cell_type": "code",
   "execution_count": 108,
   "id": "74395357",
   "metadata": {},
   "outputs": [
    {
     "name": "stdout",
     "output_type": "stream",
     "text": [
      "[1, 2, 3, 4, 2, 3, 4, 5, 6, 3, 4, 5, 6, 7, 45, 4, 5, 23, 'k1', 'sudh', 'k2', 'ineuron', 'k3', 'kumar', 3, 6, 7, 8, 'ineuron', 'data science']\n",
      "1 : 1\n",
      "2 : 2\n",
      "3 : 4\n",
      "4 : 4\n",
      "5 : 3\n",
      "6 : 3\n",
      "7 : 2\n",
      "45 : 1\n",
      "23 : 1\n",
      "k1 : 1\n",
      "sudh : 1\n",
      "k2 : 1\n",
      "ineuron : 2\n",
      "k3 : 1\n",
      "kumar : 1\n",
      "8 : 1\n",
      "data science : 1\n"
     ]
    }
   ],
   "source": [
    "freq = {}\n",
    "mylist=[]\n",
    "for i in l:\n",
    "    if type(i)==list or type(i)==set or type(i)==tuple:\n",
    "        for item in i:\n",
    "            mylist.append(item)\n",
    "    if type(i)==dict:\n",
    "        for item in i:\n",
    "            mylist.append(item)\n",
    "            mylist.append(i[item])\n",
    "print(mylist)\n",
    "\n",
    "for items in mylist:\n",
    "        freq[items] = mylist.count(items)\n",
    "for key, value in freq.items():\n",
    "        print(key,\":\",value)\n",
    "\n",
    "            "
   ]
  },
  {
   "cell_type": "code",
   "execution_count": 117,
   "id": "9d3e5562",
   "metadata": {},
   "outputs": [
    {
     "name": "stdout",
     "output_type": "stream",
     "text": [
      "dict_keys(['k1', 'k2', 'k3', 3, 7])\n",
      "Total number of keys in the dictionary is: 5\n"
     ]
    }
   ],
   "source": [
    "for i in l:\n",
    "    if type(i)==dict:\n",
    "        print(i.keys())\n",
    "        print(\"Total number of keys in the dictionary is:\",len(i.keys()))\n",
    " "
   ]
  },
  {
   "cell_type": "code",
   "execution_count": 169,
   "id": "47e24cf5",
   "metadata": {},
   "outputs": [
    {
     "name": "stdout",
     "output_type": "stream",
     "text": [
      "[]\n"
     ]
    }
   ],
   "source": [
    "str_list=[]\n",
    "for i in l:\n",
    "    if type(i)==set or type(i)==list or type(i)==tuple:\n",
    "        if (type(i)==str):\n",
    "            print(i)\n",
    "            for item in i:\n",
    "                str_list.append(item)\n",
    "    if type(i)==dict:\n",
    "        if (type(i)==str):\n",
    "             for item in i:\n",
    "                    print(item)\n",
    "                    str_list.append(item)\n",
    "                    str_list.append(i(item))\n",
    "print(str_list)"
   ]
  },
  {
   "cell_type": "code",
   "execution_count": 174,
   "id": "f1d584d7",
   "metadata": {},
   "outputs": [
    {
     "name": "stdout",
     "output_type": "stream",
     "text": [
      "k1\n",
      "sudh\n",
      "k2\n",
      "ineuron\n",
      "k3\n",
      "kumar\n",
      "ineuron\n",
      "data science\n"
     ]
    }
   ],
   "source": [
    "mylist\n",
    "for i in mylist:\n",
    "    if(type(i) == str):\n",
    "        print(i)"
   ]
  },
  {
   "cell_type": "code",
   "execution_count": 177,
   "id": "b7108ccf",
   "metadata": {},
   "outputs": [
    {
     "name": "stdout",
     "output_type": "stream",
     "text": [
      "k1\n",
      "sudh\n",
      "k2\n",
      "ineuron\n",
      "k3\n",
      "kumar\n",
      "ineuron\n"
     ]
    }
   ],
   "source": [
    "mylist\n",
    "for i in mylist:\n",
    "    if(type(i)==str):\n",
    "        if(i.isalnum()==True):\n",
    "            print(i)"
   ]
  },
  {
   "cell_type": "code",
   "execution_count": 180,
   "id": "980219c5",
   "metadata": {},
   "outputs": [
    {
     "name": "stdout",
     "output_type": "stream",
     "text": [
      "908605071360000\n"
     ]
    }
   ],
   "source": [
    "mul=1\n",
    "for i in list1:\n",
    "    mul=mul*i\n",
    "print(mul)\n"
   ]
  },
  {
   "cell_type": "code",
   "execution_count": 182,
   "id": "5ad78a7f",
   "metadata": {},
   "outputs": [
    {
     "name": "stdout",
     "output_type": "stream",
     "text": [
      "[1, 2, 3, 4, 2, 3, 4, 5, 6, 3, 4, 5, 6, 7, 45, 4, 5, 23, 'k1', 'sudh', 'k2', 'ineuron', 'k3', 'kumar', 3, 6, 7, 8, 'ineuron', 'data science']\n"
     ]
    }
   ],
   "source": [
    "print(mylist)"
   ]
  }
 ],
 "metadata": {
  "kernelspec": {
   "display_name": "Python 3 (ipykernel)",
   "language": "python",
   "name": "python3"
  },
  "language_info": {
   "codemirror_mode": {
    "name": "ipython",
    "version": 3
   },
   "file_extension": ".py",
   "mimetype": "text/x-python",
   "name": "python",
   "nbconvert_exporter": "python",
   "pygments_lexer": "ipython3",
   "version": "3.9.7"
  }
 },
 "nbformat": 4,
 "nbformat_minor": 5
}
